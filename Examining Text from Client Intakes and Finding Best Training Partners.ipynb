{
 "cells": [
  {
   "cell_type": "markdown",
   "metadata": {},
   "source": [
    "# Gym Client Intake: \n",
    "# Assessing Needs and Assigning Training Partners"
   ]
  },
  {
   "cell_type": "markdown",
   "metadata": {},
   "source": [
    "### Given a set of intake forms, I use text analysis methods to understand clients better and to pair similar clients as training partners."
   ]
  },
  {
   "cell_type": "code",
   "execution_count": 169,
   "metadata": {},
   "outputs": [],
   "source": [
    "import pandas as pd\n",
    "import numpy as np\n",
    "import seaborn as sns\n",
    "import matplotlib.pyplot as plt"
   ]
  },
  {
   "cell_type": "code",
   "execution_count": 170,
   "metadata": {},
   "outputs": [],
   "source": [
    "import re"
   ]
  },
  {
   "cell_type": "markdown",
   "metadata": {},
   "source": [
    "##### The data I am using are client intake forms from a gym. The client enters the reasons they are working out at the gym and the trainer can create a program and find an appropriate workout partner for them. "
   ]
  },
  {
   "cell_type": "code",
   "execution_count": 171,
   "metadata": {},
   "outputs": [],
   "source": [
    "intakes = pd.read_csv('./docs_df.csv', index_col=0)"
   ]
  },
  {
   "cell_type": "markdown",
   "metadata": {},
   "source": [
    "##### This function takes the dataframe as input and returns a list of docs"
   ]
  },
  {
   "cell_type": "code",
   "execution_count": 172,
   "metadata": {},
   "outputs": [],
   "source": [
    "def get_docs(dataframe):\n",
    "    return list(intakes.iloc[:,0])\n",
    "\n",
    "docs = get_docs(intakes)"
   ]
  },
  {
   "cell_type": "markdown",
   "metadata": {
    "collapsed": true
   },
   "source": [
    "##### Let's look at the first doc. it's messy! I'm starting at element 1000 to remove identifying information"
   ]
  },
  {
   "cell_type": "code",
   "execution_count": 173,
   "metadata": {},
   "outputs": [
    {
     "data": {
      "text/plain": [
       "\"w times a week, \\n_bu_t_ _I_ d_o_n_'t_ _t_h_in_k_ _I_ l_i_f_t _e_f_f_ec_t_i_v_el_y_ _f_or_ _m_us_c_l_e_ g_r_o_w_th___________________DocuSign Envelope ID: 1C593805-3764-47AB-8954-CC4CB30911D7\\nsee above\\n_____________________________________________________________\\n_____________________________________________________________\\n_____________________________________________________________\\n_____________________________________________________________\\n_____________________________________________________________\\n_________________________________________ \\n \\n \\n10. Please list any current or past bodily injuries you have or have had in the \\npast: \\nstress fractures from running years back\\n_____________________________________________________________\\n_____________________________________________________________\\n_____________________________________________________________\\n_____________________________________________________________\\n_____________________________________________________________\\n_____________________________________________________________\\n_____________________________________________________________\\n_________________________________________ \\n \\n \\n11. Please list any current or past illnesses that have or have had in the past: \\nnone\\n_____________________________________________________________\\n_____________________________________________________________\\n_____________________________________________________________\\n_____________________________________________________________DocuSign Envelope ID: 1C593805-3764-47AB-8954-CC4CB30911D7\\nnone\\n_____________________________________________________________\\n_____________________________________________________________\\n________________________ \\n \\n \\n12. Please list any information about you that you feel we should know about: \\nI really want to do things I can't do on my own. I go to the gym, so I can do \\n_____________________________________________________________\\nlight DB presses or push ups or skull crushers, etc, by myself. I really can't\\n squat, deadlift a ton of weight, pull ups, chest press, etc by myself, so I \\n_wa_n_t_ _to_ _l_ea_n_ _i_nt_o_ _t_ho_s_e_ t_y_p_e_s _o_f_ _th_i_n_g_s______________________________\\n_____________________________________________________________\\n_____________________________________________________________\\n_____________________________________________________________\\n_____________________________________________________________\\n________________________ \\n \\n \\n13. Please list any medications you are currently taking: \\nnone\\n_____________________________________________________________\\n_____________________________________________________________\\n_____________________________________________________________\\n_____________________________________________________________\\n_____________________________________________________________\\n_____________________________________________________________\\n________________________ \\n \\n14. Have you had training in the past? If yes, what made you stop? DocuSign Envelope ID: 1C593805-3764-47AB-8954-CC4CB30911D7\\nwait the gym closed down lol\\n_____________________________________________________________\\n_____________________________________________________________\\n_____________________________________________________________\\n_____________________________________________________________\\n_____________________________________________________________\\n_____________________________________________________________\\n________________________ \\n \\n15. How did you hear about BUF? \\nGOOGLE\\n \\n \\nSession Cancellation Policy \\n \\nWe at BUF strive to make sure that everyone involved in the training \\nprocess is happy to be a part of it. This includes clients, as well as our \\ntrainers. Last minute cancellations disrupt the flow of our training and leave \\ntime slots open for trainers who would have otherwise filled them up. This \\nloss of income is unfair to our trainers. We understand that things happen, \\nand cancellations are a part of life. We therefore ask that you notify us of \\nany cancellations at least 24 hours before your session. Failure to do so \\nwill mean you will be charged for that session, unless you reschedule a \\nmake-up session during the cancellation. If you cancel within 6 hours of \\nyour session, you will be charged for that session automatically. \\n \\n \\n \\n \\n \""
      ]
     },
     "execution_count": 173,
     "metadata": {},
     "output_type": "execute_result"
    }
   ],
   "source": [
    "docs[0][1000:]"
   ]
  },
  {
   "cell_type": "markdown",
   "metadata": {},
   "source": [
    "##### Let's take about the part before and after the questions answered"
   ]
  },
  {
   "cell_type": "code",
   "execution_count": 174,
   "metadata": {},
   "outputs": [],
   "source": [
    "def remove_beg_and_end(doc):\n",
    "    q1 = re.compile('1\\..+Session', re.DOTALL)\n",
    "    return q1.findall(doc)[0][:-12] #This slice removes the first word of the 'end' part"
   ]
  },
  {
   "cell_type": "code",
   "execution_count": 175,
   "metadata": {},
   "outputs": [],
   "source": [
    "docs2 = []\n",
    "\n",
    "for doc in docs:\n",
    "    d = remove_beg_and_end(doc)\n",
    "    docs2.append(d)"
   ]
  },
  {
   "cell_type": "code",
   "execution_count": 176,
   "metadata": {},
   "outputs": [
    {
     "data": {
      "text/plain": [
       "\"__________________________\\n_____________________________________________________________\\n_________________________________________ \\n \\n \\n10. Please list any current or past bodily injuries you have or have had in the \\npast: \\nstress fractures from running years back\\n_____________________________________________________________\\n_____________________________________________________________\\n_____________________________________________________________\\n_____________________________________________________________\\n_____________________________________________________________\\n_____________________________________________________________\\n_____________________________________________________________\\n_________________________________________ \\n \\n \\n11. Please list any current or past illnesses that have or have had in the past: \\nnone\\n_____________________________________________________________\\n_____________________________________________________________\\n_____________________________________________________________\\n_____________________________________________________________DocuSign Envelope ID: 1C593805-3764-47AB-8954-CC4CB30911D7\\nnone\\n_____________________________________________________________\\n_____________________________________________________________\\n________________________ \\n \\n \\n12. Please list any information about you that you feel we should know about: \\nI really want to do things I can't do on my own. I go to the gym, so I can do \\n_____________________________________________________________\\nlight DB presses or push ups or skull crushers, etc, by myself. I really can't\\n squat, deadlift a ton of weight, pull ups, chest press, etc by myself, so I \\n_wa_n_t_ _to_ _l_ea_n_ _i_nt_o_ _t_ho_s_e_ t_y_p_e_s _o_f_ _th_i_n_g_s______________________________\\n_____________________________________________________________\\n_____________________________________________________________\\n_____________________________________________________________\\n_____________________________________________________________\\n________________________ \\n \\n \\n13. Please list any medications you are currently taking: \\nnone\\n_____________________________________________________________\\n_____________________________________________________________\\n_____________________________________________________________\\n_____________________________________________________________\\n_____________________________________________________________\\n_____________________________________________________________\\n________________________ \\n \\n14. Have you had training in the past? If yes, what made you stop? DocuSign Envelope ID: 1C593805-3764-47AB-8954-CC4CB30911D7\\nwait the gym closed down lol\\n_____________________________________________________________\\n_____________________________________________________________\\n_____________________________________________________________\\n_____________________________________________________________\\n_____________________________________________________________\\n_____________________________________________________________\\n________________________ \\n \\n15. How did you hear about BUF? \\nGOOGLE\""
      ]
     },
     "execution_count": 176,
     "metadata": {},
     "output_type": "execute_result"
    }
   ],
   "source": [
    "docs2[0][1000:]"
   ]
  },
  {
   "cell_type": "markdown",
   "metadata": {},
   "source": [
    "##### Next I remove the initial questions about contact so I can be left with just the history and goals related to training."
   ]
  },
  {
   "cell_type": "code",
   "execution_count": 177,
   "metadata": {},
   "outputs": [],
   "source": [
    "def split_docs(doc):\n",
    "    pattern = '9\\.\\s*Please describe your overall .*?possible:'\n",
    "    \n",
    "    longform = re.findall(pattern + '.*', doc, re.DOTALL)[0]\n",
    "    details = re.findall('^.*?' + pattern, docs2[0], re.DOTALL)[0][:-88]\n",
    "    \n",
    "    return details, longform"
   ]
  },
  {
   "cell_type": "code",
   "execution_count": 178,
   "metadata": {},
   "outputs": [],
   "source": [
    "details = []\n",
    "longforms = []\n",
    "for d in docs2:\n",
    "    detail, longform = split_docs(d)\n",
    "    details.append(detail)\n",
    "    longforms.append(longform)"
   ]
  },
  {
   "cell_type": "code",
   "execution_count": 179,
   "metadata": {},
   "outputs": [
    {
     "data": {
      "text/plain": [
       "\"9.  Please describe your overall fitness goals. Please be as descriptive as \\npossible: \\nI want to gain muscle mass. I have had a really hard time putting on actual \\n_____________________________________________________________\\nmuscle mass. I currently eat between 2800 and 3200 calories a day. I do about\\n 40 minutes of cardio 6 days a week and lift at the gym a few times a week, \\n_bu_t_ _I_ d_o_n_'t_ _t_h_in_k_ _I_ l_i_f_t _e_f_f_ec_t_i_v_el_y_ _f_or_ _m_us_c_l_e_ g_r_o_w_th___________________DocuSign Envelope ID: 1C593805-3764-47AB-8954-CC4CB30911D7\\nsee above\\n_____________________________________________________________\\n_____________________________________________________________\\n_____________________________________________________________\\n_____________________________________________________________\\n_____________________________________________________________\\n_________________________________________ \\n \\n \\n10. Please list any current or past bodily injuries you have or have had in the \\npast: \\nstress fractures from running years back\\n_____________________________________________________________\\n_____________________________________________________________\\n_____________________________________________________________\\n_____________________________________________________________\\n_____________________________________________________________\\n_____________________________________________________________\\n_____________________________________________________________\\n_________________________________________ \\n \\n \\n11. Please list any current or past illnesses that have or have had in the past: \\nnone\\n_____________________________________________________________\\n_____________________________________________________________\\n_____________________________________________________________\\n_____________________________________________________________DocuSign Envelope ID: 1C593805-3764-47AB-8954-CC4CB30911D7\\nnone\\n_____________________________________________________________\\n_____________________________________________________________\\n________________________ \\n \\n \\n12. Please list any information about you that you feel we should know about: \\nI really want to do things I can't do on my own. I go to the gym, so I can do \\n_____________________________________________________________\\nlight DB presses or push ups or skull crushers, etc, by myself. I really can't\\n squat, deadlift a ton of weight, pull ups, chest press, etc by myself, so I \\n_wa_n_t_ _to_ _l_ea_n_ _i_nt_o_ _t_ho_s_e_ t_y_p_e_s _o_f_ _th_i_n_g_s______________________________\\n_____________________________________________________________\\n_____________________________________________________________\\n_____________________________________________________________\\n_____________________________________________________________\\n________________________ \\n \\n \\n13. Please list any medications you are currently taking: \\nnone\\n_____________________________________________________________\\n_____________________________________________________________\\n_____________________________________________________________\\n_____________________________________________________________\\n_____________________________________________________________\\n_____________________________________________________________\\n________________________ \\n \\n14. Have you had training in the past? If yes, what made you stop? DocuSign Envelope ID: 1C593805-3764-47AB-8954-CC4CB30911D7\\nwait the gym closed down lol\\n_____________________________________________________________\\n_____________________________________________________________\\n_____________________________________________________________\\n_____________________________________________________________\\n_____________________________________________________________\\n_____________________________________________________________\\n________________________ \\n \\n15. How did you hear about BUF? \\nGOOGLE\""
      ]
     },
     "execution_count": 179,
     "metadata": {},
     "output_type": "execute_result"
    }
   ],
   "source": [
    "longforms[0]"
   ]
  },
  {
   "cell_type": "markdown",
   "metadata": {},
   "source": [
    "##### For legibility, I remove newlines, and ____ blanks in addition to a Docusign Stamp\n"
   ]
  },
  {
   "cell_type": "code",
   "execution_count": 180,
   "metadata": {},
   "outputs": [],
   "source": [
    "def remove_clutter(doc):\n",
    "    doc = doc.replace('\\n','').replace('_','')\n",
    "    pattern = re.compile('DocuSign Envelope ID: ([0-9]?-?[A-Z]?)*') #remove this docusign stamp\n",
    "    newdoc = re.sub(pattern, '', doc)\n",
    "    return newdoc"
   ]
  },
  {
   "cell_type": "code",
   "execution_count": 181,
   "metadata": {},
   "outputs": [],
   "source": [
    "longclean = []\n",
    "\n",
    "for d in longforms:\n",
    "    newd = remove_clutter(d)\n",
    "    longclean.append(newd)\n",
    "    "
   ]
  },
  {
   "cell_type": "code",
   "execution_count": 182,
   "metadata": {},
   "outputs": [
    {
     "data": {
      "text/plain": [
       "\"9.  Please describe your overall fitness goals. Please be as descriptive as possible: I want to gain muscle mass. I have had a really hard time putting on actual muscle mass. I currently eat between 2800 and 3200 calories a day. I do about 40 minutes of cardio 6 days a week and lift at the gym a few times a week, but I don't think I lift effectively for muscle growthsee above   10. Please list any current or past bodily injuries you have or have had in the past: stress fractures from running years back   11. Please list any current or past illnesses that have or have had in the past: nonenone   12. Please list any information about you that you feel we should know about: I really want to do things I can't do on my own. I go to the gym, so I can do light DB presses or push ups or skull crushers, etc, by myself. I really can't squat, deadlift a ton of weight, pull ups, chest press, etc by myself, so I want to lean into those types of things   13. Please list any medications you are currently taking: none  14. Have you had training in the past? If yes, what made you stop? wait the gym closed down lol  15. How did you hear about BUF? GOOGLE\""
      ]
     },
     "execution_count": 182,
     "metadata": {},
     "output_type": "execute_result"
    }
   ],
   "source": [
    "longclean[0]"
   ]
  },
  {
   "cell_type": "markdown",
   "metadata": {},
   "source": [
    "##### I want to remove the last question because although important to marketing, it's not important to training"
   ]
  },
  {
   "cell_type": "code",
   "execution_count": 183,
   "metadata": {},
   "outputs": [],
   "source": [
    "def remove_last_prompt(doc):\n",
    "    pattern = re.compile('15\\.\\s*How did you hear about BUF\\?.*', re.DOTALL) \n",
    "    newdoc = re.sub(pattern, '', doc)\n",
    "    return newdoc\n",
    "\n",
    "longclean1 = []\n",
    "\n",
    "for d in longclean:\n",
    "    newd = remove_last_prompt(d)\n",
    "    longclean1.append(newd)"
   ]
  },
  {
   "cell_type": "code",
   "execution_count": 184,
   "metadata": {},
   "outputs": [
    {
     "data": {
      "text/plain": [
       "\"9.  Please describe your overall fitness goals. Please be as descriptive as possible: I want to gain muscle mass. I have had a really hard time putting on actual muscle mass. I currently eat between 2800 and 3200 calories a day. I do about 40 minutes of cardio 6 days a week and lift at the gym a few times a week, but I don't think I lift effectively for muscle growthsee above   10. Please list any current or past bodily injuries you have or have had in the past: stress fractures from running years back   11. Please list any current or past illnesses that have or have had in the past: nonenone   12. Please list any information about you that you feel we should know about: I really want to do things I can't do on my own. I go to the gym, so I can do light DB presses or push ups or skull crushers, etc, by myself. I really can't squat, deadlift a ton of weight, pull ups, chest press, etc by myself, so I want to lean into those types of things   13. Please list any medications you are currently taking: none  14. Have you had training in the past? If yes, what made you stop? wait the gym closed down lol  \""
      ]
     },
     "execution_count": 184,
     "metadata": {},
     "output_type": "execute_result"
    }
   ],
   "source": [
    "longclean1[0]"
   ]
  },
  {
   "cell_type": "code",
   "execution_count": 185,
   "metadata": {},
   "outputs": [],
   "source": [
    "#These are all the prompts that are asked in the intake forms.\n",
    "#I only want the client responses so I will take out the questions.\n",
    "\n",
    "prompts = [\n",
    "    '1\\.\\s*Name:',\n",
    "    '2\\.\\s*Age:',\n",
    "    '3\\.\\s*Height:',\n",
    "    '4\\.\\s*Weight:',\n",
    "    '5\\.\\s*Birthday:',\n",
    "    '6\\.\\s*Email:',\n",
    "    '7\\.\\s*Occupation:',\n",
    "    '8\\.\\s*Address:',\n",
    "    '9\\.\\s*Please describe your overall .*?possible:',\n",
    "    '10\\.\\s*Please list any current or past bodily injuries you have or have had in the past:',\n",
    "    '11\\.\\s*Please list any current or past illnesses that have or have had in the past:',\n",
    "    '12\\.\\s*Please list any information about you that you feel we should know about:',\n",
    "    '13\\.\\s*Please list any medications you are currently taking:',\n",
    "    '14\\.\\s*Have you had training in the past\\? If yes, what made you stop\\?',\n",
    "    #'15\\.\\s*How did you hear about BUF\\?' I removed this part in earlier step\n",
    "]"
   ]
  },
  {
   "cell_type": "code",
   "execution_count": 186,
   "metadata": {},
   "outputs": [],
   "source": [
    "#This removes the prompts\n",
    "def remove_prompts(doc):\n",
    "    result = doc\n",
    "    for p in prompts:\n",
    "        pattern = p\n",
    "        result = re.sub(pattern, '', result)\n",
    "    \n",
    "    return result"
   ]
  },
  {
   "cell_type": "code",
   "execution_count": 187,
   "metadata": {},
   "outputs": [],
   "source": [
    "longclean2 = []\n",
    "\n",
    "for d in longclean1:\n",
    "    newd = remove_prompts(d)\n",
    "    longclean2.append(newd)"
   ]
  },
  {
   "cell_type": "code",
   "execution_count": 188,
   "metadata": {},
   "outputs": [],
   "source": [
    "#Here I am finishing with some extra cleanups for mistypings I saw while coding\n",
    "def extra_cleaning(doc): \n",
    "    result = doc.lower().replace('pull ups', 'pull-ups').replace('push ups', 'push-ups')\\\n",
    "                            .replace('skull crushers','skullcrushers').replace('growthsee', 'growth see')\n",
    "    result2 = result.replace('n/a', '').replace('none','').replace(' na ', '')\n",
    "    return result2"
   ]
  },
  {
   "cell_type": "code",
   "execution_count": 189,
   "metadata": {},
   "outputs": [],
   "source": [
    "longclean3 = []\n",
    "for d in longclean2:\n",
    "    newd = extra_cleaning(d)\n",
    "    longclean3.append(newd)"
   ]
  },
  {
   "cell_type": "code",
   "execution_count": 190,
   "metadata": {},
   "outputs": [],
   "source": [
    "stopwords = {\"i'm\", 'while', \"you're\", 'by', \"where's\", \"i'd\", \"can't\", \"she'd\", 'an', 'does', 'who', 'but', 'would', 'there', 'am', 'too', 'such', 'hers', \"mustn't\", 'most', \"i'll\", 'further', 'because', 'be', \"here's\", 'not', \"they'd\", 'we', \"when's\", \"shouldn't\", 'yourselves', 'to', 'from', 'that', 'out', 'between', \"you've\", 'her', 'it', 'the', 'their', 'each', \"don't\", \"we'll\", 'under', 'then', \"i've\", \"you'll\", 'only', 'here', 'up', \"won't\", \"who's\", 'with', 'him', 'have', 'ought', 'through', \"wouldn't\", 'a', 'into', \"haven't\", 'ourselves', \"we've\", 'them', 'during', 'on', 'few', 'same', 'and', \"there's\", \"what's\", 'what', 'yours', 'could', \"she's\", 'more', 'after', 'do', 'they', 'for', 'being', \"didn't\", 'nor', 'before', 'than', \"that's\", 'over', 'doing', 'did', 'his', \"let's\", \"they've\", \"isn't\", \"we'd\", 'been', 'has', \"aren't\", 'so', 'again', 'i', 'she', 'themselves', \"they're\", 'until', \"shan't\", 'down', \"wasn't\", 'about', 'himself', 'against', 'where', 'once', 'those', 'very', \"hadn't\", 'or', 'herself', \"doesn't\", \"we're\", 'our', 'if', 'he', 'theirs', 'no', 'how', 'other', \"how's\", 'above', 'were', 'was', \"why's\", 'its', 'at', 'your', 'these', 'own', 'any', \"couldn't\", 'yourself', \"he's\", 'you', 'should', 'below', 'my', 'off', \"they'll\", 'myself', 'some', 'of', 'are', \"she'll\", 'is', 'which', \"he'll\", 'this', 'all', 'me', 'whom', 'both', 'having', \"hasn't\", 'as', \"it's\", 'ours', \"weren't\", \"you'd\", \"he'd\", 'when', 'had', 'cannot', 'in', 'itself', 'why'}"
   ]
  },
  {
   "cell_type": "code",
   "execution_count": 191,
   "metadata": {},
   "outputs": [],
   "source": [
    "def create_bow(doc):\n",
    "    pattern = re.compile('[\\.,!\\?]')\n",
    "    result = re.sub(pattern, '', doc.lower())\n",
    "    result2 = [word for word in result.split() if word not in stopwords]\n",
    "    \n",
    "    return set(result2)"
   ]
  },
  {
   "cell_type": "code",
   "execution_count": 192,
   "metadata": {},
   "outputs": [],
   "source": [
    "bows = []\n",
    "\n",
    "for d in longclean3:\n",
    "    bow = create_bow(d)\n",
    "    bows.append(bow)"
   ]
  },
  {
   "cell_type": "code",
   "execution_count": 193,
   "metadata": {},
   "outputs": [
    {
     "data": {
      "text/plain": [
       "{'2800',\n",
       " '3200',\n",
       " '40',\n",
       " '6',\n",
       " 'actual',\n",
       " 'back',\n",
       " 'calories',\n",
       " 'can',\n",
       " 'cardio',\n",
       " 'chest',\n",
       " 'closed',\n",
       " 'currently',\n",
       " 'day',\n",
       " 'days',\n",
       " 'db',\n",
       " 'deadlift',\n",
       " 'eat',\n",
       " 'effectively',\n",
       " 'etc',\n",
       " 'fractures',\n",
       " 'gain',\n",
       " 'go',\n",
       " 'growth',\n",
       " 'gym',\n",
       " 'hard',\n",
       " 'lean',\n",
       " 'lift',\n",
       " 'light',\n",
       " 'lol',\n",
       " 'mass',\n",
       " 'minutes',\n",
       " 'muscle',\n",
       " 'press',\n",
       " 'presses',\n",
       " 'pull-ups',\n",
       " 'push-ups',\n",
       " 'putting',\n",
       " 'really',\n",
       " 'running',\n",
       " 'see',\n",
       " 'skullcrushers',\n",
       " 'squat',\n",
       " 'stress',\n",
       " 'things',\n",
       " 'think',\n",
       " 'time',\n",
       " 'times',\n",
       " 'ton',\n",
       " 'types',\n",
       " 'wait',\n",
       " 'want',\n",
       " 'week',\n",
       " 'weight',\n",
       " 'years'}"
      ]
     },
     "execution_count": 193,
     "metadata": {},
     "output_type": "execute_result"
    }
   ],
   "source": [
    "bows[0]"
   ]
  },
  {
   "cell_type": "code",
   "execution_count": 194,
   "metadata": {},
   "outputs": [],
   "source": [
    "from collections import Counter\n",
    "def count_freq(bow_list):\n",
    "    total = Counter()\n",
    "    \n",
    "    for i in bow_list:\n",
    "        total += Counter(i)\n",
    "        \n",
    "    return Counter(total)"
   ]
  },
  {
   "cell_type": "code",
   "execution_count": 195,
   "metadata": {},
   "outputs": [
    {
     "name": "stdout",
     "output_type": "stream",
     "text": [
      "Top 20 (word, frequency) pairs:\n",
      "[('muscle', 71), ('get', 57), ('body', 49), ('weight', 48), ('like', 48), ('back', 47), ('es', 46), ('lose', 46), ('want', 44), ('training', 42), ('gain', 41), ('fat', 41), ('also', 38), ('years', 34), ('work', 34), ('build', 29), ('strength', 29), ('time', 27), ('trainer', 27), ('overall', 27)]\n",
      "Bottom 20 (word, frequency) pairs:\n",
      "[('wrestling', 1), ('loud', 1), ('noises', 1), ('scheduling', 1), ('proportionate', 1), ('wirh', 1), ('replicate', 1), ('minicus', 1), ('balls', 1), ('nce', 1), ('ground', 1), ('strengthooking', 1), ('spasm', 1), ('budgetary', 1), ('pandemicooking', 1), ('illnessesother', 1), ('sporadically', 1), ('happen', 1), ('now)', 1), ('(controlled', 1)]\n"
     ]
    }
   ],
   "source": [
    "word_freq = count_freq(bows)\n",
    "\n",
    "print(\"Top 20 (word, frequency) pairs:\")\n",
    "most_common = word_freq.most_common(20)\n",
    "print(most_common)\n",
    "\n",
    "print(\"Bottom 20 (word, frequency) pairs:\")\n",
    "least_common = word_freq.most_common()[-20:]\n",
    "print(least_common)\n"
   ]
  },
  {
   "cell_type": "code",
   "execution_count": 196,
   "metadata": {},
   "outputs": [
    {
     "data": {
      "image/png": "[encoded data removed]",
      "text/plain": [
       "<Figure size 432x288 with 1 Axes>"
      ]
     },
     "metadata": {
      "needs_background": "light"
     },
     "output_type": "display_data"
    }
   ],
   "source": [
    "words = list(dict(most_common).keys())\n",
    "vals = list(dict(most_common).values())\n",
    "plt.figure()\n",
    "plt.title('Top 20 Common Words in Intake Forms')\n",
    "plt.xticks(rotation=90)\n",
    "plt.ylabel('Frequency')\n",
    "g = sns.barplot(x=words, y=vals)"
   ]
  },
  {
   "cell_type": "code",
   "execution_count": 197,
   "metadata": {},
   "outputs": [
    {
     "data": {
      "text/plain": [
       "[<matplotlib.axis.YTick at 0x7fb24623b4d0>,\n",
       " <matplotlib.axis.YTick at 0x7fb245d65d50>,\n",
       " <matplotlib.axis.YTick at 0x7fb2442c85d0>,\n",
       " <matplotlib.axis.YTick at 0x7fb24623a8d0>,\n",
       " <matplotlib.axis.YTick at 0x7fb2461363d0>,\n",
       " <matplotlib.axis.YTick at 0x7fb246136950>,\n",
       " <matplotlib.axis.YTick at 0x7fb246136f10>,\n",
       " <matplotlib.axis.YTick at 0x7fb2461304d0>,\n",
       " <matplotlib.axis.YTick at 0x7fb246130a50>,\n",
       " <matplotlib.axis.YTick at 0x7fb246130b50>,\n",
       " <matplotlib.axis.YTick at 0x7fb246203e10>,\n",
       " <matplotlib.axis.YTick at 0x7fb2461114d0>,\n",
       " <matplotlib.axis.YTick at 0x7fb246128d50>,\n",
       " <matplotlib.axis.YTick at 0x7fb246128c10>,\n",
       " <matplotlib.axis.YTick at 0x7fb2454255d0>,\n",
       " <matplotlib.axis.YTick at 0x7fb24540fc10>,\n",
       " <matplotlib.axis.YTick at 0x7fb2454326d0>,\n",
       " <matplotlib.axis.YTick at 0x7fb245432c50>,\n",
       " <matplotlib.axis.YTick at 0x7fb246771290>,\n",
       " <matplotlib.axis.YTick at 0x7fb246771810>]"
      ]
     },
     "execution_count": 197,
     "metadata": {},
     "output_type": "execute_result"
    },
    {
     "data": {
      "image/png": "[encoded data removed]",
      "text/plain": [
       "<Figure size 432x288 with 1 Axes>"
      ]
     },
     "metadata": {
      "needs_background": "light"
     },
     "output_type": "display_data"
    }
   ],
   "source": [
    "words = list(dict(least_common).keys())\n",
    "vals = list(dict(least_common).values())\n",
    "fig, ax = plt.subplots()\n",
    "plt.title('20 Least Common Words in Intake Forms')\n",
    "ax.set_yticks([1,2,3,4,5,6,7,8,9,10])\n",
    "plt.xticks(rotation=90)\n",
    "plt.ylabel('Frequency')\n",
    "g = sns.barplot(x=words, y=vals)\n",
    "g.set_yticks(range(1,21))"
   ]
  },
  {
   "cell_type": "markdown",
   "metadata": {},
   "source": [
    "### Now using some tools from calculating document similarity, let's find best partners for each client"
   ]
  },
  {
   "cell_type": "code",
   "execution_count": 198,
   "metadata": {},
   "outputs": [],
   "source": [
    "#this creates an overall vocab vector that contains \n",
    "#all possible words used by clients (minus stopwords)\n",
    "\n",
    "def create_vocab(bows):\n",
    "    assert isinstance(bows, list), \"create_vocab expects a list as input.\"\n",
    "    \n",
    "    words = []\n",
    "    \n",
    "    for bow in bows:\n",
    "        words += list(bow)\n",
    "    #print(words)\n",
    "    result = sorted(list(set(words)))\n",
    "\n",
    "    return result\n",
    "\n",
    "#This turns each word_list into a sparse vector with 1 or 0\n",
    "#if they do or do not include a word from the vocab vector\n",
    "def bagofwords(bows, vocab):\n",
    "    assert (isinstance(bows, list)), \"bagofwords expects a list of strings as input for doclist.\"\n",
    "    assert (isinstance(vocab, list)), \"bagofwords expects a list of strings as input for vocab.\"\n",
    "    \n",
    "    all_bags = []\n",
    "    \n",
    "    for bow in bows:\n",
    "        words = bow\n",
    "        bag = [0] * len(vocab)\n",
    "\n",
    "        for word in words:\n",
    "            ind = vocab.index(word)\n",
    "            bag[ind] += 1\n",
    "        all_bags.append(bag)\n",
    "    \n",
    "    return all_bags\n",
    "\n",
    "#This normalizes each vectorized bow to control for overly weighting documents with more words\n",
    "from math import sqrt\n",
    "def bow_normalize(bow):\n",
    "    assert(isinstance(bow,list)),\"bow_normalize expects a list of ints as input\"\n",
    "    \n",
    "    newbow = []\n",
    "    \n",
    "    for vector in bow:\n",
    "        euclidean = sqrt(sum(xi**2 for xi in vector))\n",
    "        newvec = [xi/euclidean for xi in vector]\n",
    "        newbow.append(newvec)\n",
    "    \n",
    "    return newbow\n",
    "\n",
    "#This creates a \"SCORE\" calculation to be used in the next function\n",
    "def inner_product(a,b):\n",
    "    assert (isinstance(a, list)), \"inner_product expects a list of floats/ints as input for a.\"\n",
    "    assert (isinstance(b, list)), \"inner_product expects a list of floats/ints as input for b.\"\n",
    "    assert len(a) == len(b), \"inner_product should be called on vectors of the same length.\"\n",
    "    \n",
    "    total = 0.0\n",
    "    \n",
    "    for ai, bi in zip(a,b):\n",
    "        total += ai*bi\n",
    "    \n",
    "    return total\n",
    "\n",
    "#This compares each vectorized bow to all the other bows for similarity \n",
    "#using the inner product function above\n",
    "def most_similar(nbows, target):\n",
    "    assert (isinstance(nbows,list)), \"most_similar expects list as input for nbows.\"\n",
    "    assert (isinstance(target,int)), \"most_similar expects integer as input for target.\"\n",
    "    \n",
    "    highest_sim = 0\n",
    "    least_ind = 1000000\n",
    "    \n",
    "    for ind, bow in enumerate(nbows):\n",
    "        sim = inner_product(bow, nbows[target])\n",
    "        #print(sim)\n",
    "        if (sim > highest_sim) & (ind != target):\n",
    "            highest_sim = sim\n",
    "            least_ind = ind\n",
    "        elif (sim == highest_sim) & (ind != target):\n",
    "            if ind < least_ind: least_ind = ind\n",
    "\n",
    "    return least_ind\n",
    "\n"
   ]
  },
  {
   "cell_type": "markdown",
   "metadata": {},
   "source": [
    "#### One of the vectors was blank, and threw a bug in the code. I am removing it."
   ]
  },
  {
   "cell_type": "code",
   "execution_count": 199,
   "metadata": {},
   "outputs": [
    {
     "name": "stdout",
     "output_type": "stream",
     "text": [
      "106\n"
     ]
    }
   ],
   "source": [
    "for ind, i in enumerate(bows):\n",
    "    if len(i)==0:\n",
    "        print(ind)"
   ]
  },
  {
   "cell_type": "code",
   "execution_count": 200,
   "metadata": {},
   "outputs": [
    {
     "data": {
      "text/plain": [
       "set()"
      ]
     },
     "execution_count": 200,
     "metadata": {},
     "output_type": "execute_result"
    }
   ],
   "source": [
    "bows[106]"
   ]
  },
  {
   "cell_type": "code",
   "execution_count": 201,
   "metadata": {},
   "outputs": [],
   "source": [
    "if len(bows[106])==0:\n",
    "    del bows[106]"
   ]
  },
  {
   "cell_type": "markdown",
   "metadata": {},
   "source": [
    "##### Finally I use all my functions to sift through all clients and find the best partner for each"
   ]
  },
  {
   "cell_type": "code",
   "execution_count": 202,
   "metadata": {},
   "outputs": [],
   "source": [
    "from collections import defaultdict\n",
    "vocab = create_vocab(bows)\n",
    "bags = bagofwords(bows, vocab)\n",
    "nbows = bow_normalize(bags)\n",
    "\n",
    "most_sim = defaultdict()\n",
    "\n",
    "for ind, nbow in enumerate(nbows):\n",
    "    similar_index = most_similar(nbows, ind)\n",
    "    most_sim[ind] = similar_index"
   ]
  },
  {
   "cell_type": "code",
   "execution_count": 203,
   "metadata": {},
   "outputs": [
    {
     "name": "stdout",
     "output_type": "stream",
     "text": [
      "0 : 30\n",
      "1 : 8\n",
      "2 : 23\n",
      "3 : 99\n",
      "4 : 74\n"
     ]
    }
   ],
   "source": [
    "for i in range(5):\n",
    "    print(i, ':', most_sim[i])"
   ]
  },
  {
   "cell_type": "code",
   "execution_count": 204,
   "metadata": {},
   "outputs": [
    {
     "name": "stdout",
     "output_type": "stream",
     "text": [
      "Partner 0's words:\n",
      "\n",
      "chest,want,squat,deadlift,lol,cardio,currently,etc,2800,closed,years,presses,hard,running,wait,stress,growth,muscle,days,back,push-ups,eat,effectively,mass,actual,gym,skullcrushers,calories,minutes,go,weight,putting,3200,really,think,time,fractures,6,press,types,day,lift,times,see,week,db,40,ton,lean,pull-ups,light,can,gain,things\n",
      "\n",
      "Partner 30's words:\n",
      "\n",
      "seems,body,job,sufficient,area,mind,past,moving,whole,metabolism,definitely,overall,something,plan,like,muscle,4-5,particular,workout,cities,eat,develop,es,target,mass,focus,gym,calories,go,still,need,keep,also,think,changing,sertraline,now,times,new,week,struggled,possibly,narrowing,starting,can,gain\n"
     ]
    }
   ],
   "source": [
    "#Let's look at some similar partners:\n",
    "print(\"Partner 0's words:\")\n",
    "print()\n",
    "print(','.join(bows[0])) \n",
    "print()\n",
    "print(\"Partner 30's words:\")\n",
    "print()\n",
    "print(','.join(bows[30]))"
   ]
  },
  {
   "cell_type": "code",
   "execution_count": 205,
   "metadata": {},
   "outputs": [
    {
     "name": "stdout",
     "output_type": "stream",
     "text": [
      "Partner 1's words:\n",
      "\n",
      "bigger,train,metabolism,recovery,pandemic,biggest,fitness,well,2021,illnesses,muscle,building,vegas,continue,back,just,love,arms,2020,due,excited,es,fast,trainer,balance,onaesthetically,le,pack,firming,goals,prep,6,retain,worked,butt,september,lean,challenge,nyc,toned,relocating,toning,injuries\n",
      "\n",
      "Partner 8's words:\n",
      "\n",
      "6,packs,body,tonedlose,trainer,get,fit,invested,arms,fatget,es,muscular,stopped\n"
     ]
    }
   ],
   "source": [
    "print(\"Partner 1's words:\")\n",
    "print()\n",
    "print(','.join(bows[1])) \n",
    "print()\n",
    "print(\"Partner 8's words:\")\n",
    "print()\n",
    "print(','.join(bows[8]))"
   ]
  },
  {
   "cell_type": "code",
   "execution_count": 206,
   "metadata": {},
   "outputs": [
    {
     "name": "stdout",
     "output_type": "stream",
     "text": [
      "Partner 2's words:\n",
      "\n",
      "exercises,great,practically,moving,area,looking,learn,physical,fitness,stop,overall,gaining,muscle,positive,secondary,sessions,interested,build,due,excited,working,gym,weight,brief,'ve,beginner,goal,/a,experience,stamina,strengthening,general,losing,absolute\n",
      "\n",
      "Partner 23's words:\n",
      "\n",
      "currently,moved,overall,unwantedly,gaining,back,country,es,strength/a,mass,gym,weight,also,/a,year,losing,new,totally,gain\n"
     ]
    }
   ],
   "source": [
    "print(\"Partner 2's words:\")\n",
    "print()\n",
    "print(','.join(bows[2])) \n",
    "print()\n",
    "print(\"Partner 23's words:\")\n",
    "print()\n",
    "print(','.join(bows[23]))"
   ]
  },
  {
   "cell_type": "code",
   "execution_count": 207,
   "metadata": {},
   "outputs": [
    {
     "name": "stdout",
     "output_type": "stream",
     "text": [
      "Partner 3's words:\n",
      "\n",
      "someone,exercises,body,got,pain,lower,years,fitness,lot,like,back,injury,eat,just,stronger,lose,get,never,weight,teaching,started,goals,formal,trained,training,proper,lazy,now,way,many,stopped\n",
      "\n",
      "Partner 99's words:\n",
      "\n",
      "want,thinner,got,etc,chaotic,glutes,shoulders,workouts,told,like,muscle,sessions,back,tear,complimentary,regular,realistic,gym,never,think,really,core,training,cross-fit,sometimes,productive,lifting,cardio,high,lower,years,thighs,place,iam,meniscus,building,knee,injury,stronger,increasing,felt,focus,habit,together,occasionally,main,strength,posture,hated,motivated,now,routine,past,body;,exercise,find,found,upper,unhelpful,focused,time,health/fitness,tried,way,tone,enjoy,ability,prevent,5,chest,small,pain,younger,plan,injured,arms,fallen,however,working,critical,get,weight,older,goals,also,school,leaders/trainers,unable,bothered,joined,partner,help\n"
     ]
    }
   ],
   "source": [
    "print(\"Partner 3's words:\")\n",
    "print()\n",
    "print(','.join(bows[3])) \n",
    "print()\n",
    "print(\"Partner 99's words:\")\n",
    "print()\n",
    "print(','.join(bows[99]))"
   ]
  },
  {
   "cell_type": "markdown",
   "metadata": {
    "collapsed": true
   },
   "source": [
    "##### It's not perfect but there are some clear similarities in the first pairing, and somewhat less so in the next."
   ]
  },
  {
   "cell_type": "code",
   "execution_count": null,
   "metadata": {},
   "outputs": [],
   "source": []
  }
 ],
 "metadata": {
  "kernelspec": {
   "display_name": "Python 3",
   "language": "python",
   "name": "python3"
  },
  "language_info": {
   "codemirror_mode": {
    "name": "ipython",
    "version": 3
   },
   "file_extension": ".py",
   "mimetype": "text/x-python",
   "name": "python",
   "nbconvert_exporter": "python",
   "pygments_lexer": "ipython3",
   "version": "3.7.7"
  }
 },
 "nbformat": 4,
 "nbformat_minor": 2
}
